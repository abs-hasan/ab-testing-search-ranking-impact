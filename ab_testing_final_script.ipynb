{
 "cells": [
  {
   "cell_type": "markdown",
   "id": "a2c55753-c247-474b-89d5-d829984b84f6",
   "metadata": {},
   "source": [
    "# A/B Testing : Search Ranking Impact"
   ]
  },
  {
   "cell_type": "code",
   "execution_count": 1,
   "id": "248a2cb1-a9ea-4e6e-98cb-fcae678c374f",
   "metadata": {},
   "outputs": [],
   "source": [
    "import pandas as pd\n",
    "import matplotlib.pyplot as plt\n",
    "import seaborn as sns\n",
    "import numpy as np\n",
    "\n",
    "import scipy.stats as stats\n",
    "import statsmodels.stats.proportion as proportion"
   ]
  },
  {
   "cell_type": "markdown",
   "id": "87d0af8c-f9db-4303-ae02-4a03fbaa5be9",
   "metadata": {},
   "source": [
    "### 1. Load and Inspect Session & User Datasets"
   ]
  },
  {
   "cell_type": "markdown",
   "id": "95acee60-6d7f-4c70-b355-b0f07f863e95",
   "metadata": {},
   "source": [
    "We start by importing the two provided datasets:\n",
    "- `sessions_data.csv`: Contains session-level interactions and booking timestamps\n",
    "- `users_data.csv`: Maps each logged-in user to their experiment group (control or variant)"
   ]
  },
  {
   "cell_type": "code",
   "execution_count": 2,
   "id": "c4dd9b29-e5da-41a7-b8d4-7ed891220407",
   "metadata": {},
   "outputs": [],
   "source": [
    "# Load session-level booking data and experiment group assignment\n",
    "sessions = pd.read_csv(\"raw_data/sessions_data.csv\")\n",
    "users = pd.read_csv(\"raw_data/users_data.csv\")"
   ]
  },
  {
   "cell_type": "code",
   "execution_count": 3,
   "id": "857ccd19-4a63-4a2d-8246-986c5f947a5f",
   "metadata": {},
   "outputs": [
    {
     "data": {
      "text/html": [
       "<div>\n",
       "<style scoped>\n",
       "    .dataframe tbody tr th:only-of-type {\n",
       "        vertical-align: middle;\n",
       "    }\n",
       "\n",
       "    .dataframe tbody tr th {\n",
       "        vertical-align: top;\n",
       "    }\n",
       "\n",
       "    .dataframe thead th {\n",
       "        text-align: right;\n",
       "    }\n",
       "</style>\n",
       "<table border=\"1\" class=\"dataframe\">\n",
       "  <thead>\n",
       "    <tr style=\"text-align: right;\">\n",
       "      <th></th>\n",
       "      <th>session_id</th>\n",
       "      <th>user_id</th>\n",
       "      <th>session_start_timestamp</th>\n",
       "      <th>booking_timestamp</th>\n",
       "      <th>time_to_booking</th>\n",
       "    </tr>\n",
       "  </thead>\n",
       "  <tbody>\n",
       "    <tr>\n",
       "      <th>0</th>\n",
       "      <td>CP0lbAGnb5UNi3Ut</td>\n",
       "      <td>TcCIMrtQ75wHGXVj</td>\n",
       "      <td>02:39.2</td>\n",
       "      <td>NaN</td>\n",
       "      <td>NaN</td>\n",
       "    </tr>\n",
       "    <tr>\n",
       "      <th>1</th>\n",
       "      <td>UQAjrPYair63L1p8</td>\n",
       "      <td>TcCIMrtQ75wHGXVj</td>\n",
       "      <td>12:51.5</td>\n",
       "      <td>NaN</td>\n",
       "      <td>NaN</td>\n",
       "    </tr>\n",
       "    <tr>\n",
       "      <th>2</th>\n",
       "      <td>9zQrAPxV5oi2SzSa</td>\n",
       "      <td>TcCIMrtQ75wHGXVj</td>\n",
       "      <td>46:40.8</td>\n",
       "      <td>NaN</td>\n",
       "      <td>NaN</td>\n",
       "    </tr>\n",
       "    <tr>\n",
       "      <th>3</th>\n",
       "      <td>kkrz1M5vxrQ8wXRZ</td>\n",
       "      <td>GUGVzto9KGqeX3dc</td>\n",
       "      <td>48:51.0</td>\n",
       "      <td>NaN</td>\n",
       "      <td>NaN</td>\n",
       "    </tr>\n",
       "    <tr>\n",
       "      <th>4</th>\n",
       "      <td>AKDXZWWFYKViHC27</td>\n",
       "      <td>NaN</td>\n",
       "      <td>30:50.0</td>\n",
       "      <td>NaN</td>\n",
       "      <td>NaN</td>\n",
       "    </tr>\n",
       "  </tbody>\n",
       "</table>\n",
       "</div>"
      ],
      "text/plain": [
       "         session_id           user_id session_start_timestamp  \\\n",
       "0  CP0lbAGnb5UNi3Ut  TcCIMrtQ75wHGXVj                 02:39.2   \n",
       "1  UQAjrPYair63L1p8  TcCIMrtQ75wHGXVj                 12:51.5   \n",
       "2  9zQrAPxV5oi2SzSa  TcCIMrtQ75wHGXVj                 46:40.8   \n",
       "3  kkrz1M5vxrQ8wXRZ  GUGVzto9KGqeX3dc                 48:51.0   \n",
       "4  AKDXZWWFYKViHC27               NaN                 30:50.0   \n",
       "\n",
       "  booking_timestamp  time_to_booking  \n",
       "0               NaN              NaN  \n",
       "1               NaN              NaN  \n",
       "2               NaN              NaN  \n",
       "3               NaN              NaN  \n",
       "4               NaN              NaN  "
      ]
     },
     "execution_count": 3,
     "metadata": {},
     "output_type": "execute_result"
    }
   ],
   "source": [
    "# Preview the first few rows of each data set\n",
    "sessions.head()"
   ]
  },
  {
   "cell_type": "code",
   "execution_count": 4,
   "id": "bf30da00-adb1-41b1-af56-a73489fe8885",
   "metadata": {},
   "outputs": [
    {
     "data": {
      "text/html": [
       "<div>\n",
       "<style scoped>\n",
       "    .dataframe tbody tr th:only-of-type {\n",
       "        vertical-align: middle;\n",
       "    }\n",
       "\n",
       "    .dataframe tbody tr th {\n",
       "        vertical-align: top;\n",
       "    }\n",
       "\n",
       "    .dataframe thead th {\n",
       "        text-align: right;\n",
       "    }\n",
       "</style>\n",
       "<table border=\"1\" class=\"dataframe\">\n",
       "  <thead>\n",
       "    <tr style=\"text-align: right;\">\n",
       "      <th></th>\n",
       "      <th>user_id</th>\n",
       "      <th>experiment_group</th>\n",
       "    </tr>\n",
       "  </thead>\n",
       "  <tbody>\n",
       "    <tr>\n",
       "      <th>0</th>\n",
       "      <td>TcCIMrtQ75wHGXVj</td>\n",
       "      <td>variant</td>\n",
       "    </tr>\n",
       "    <tr>\n",
       "      <th>1</th>\n",
       "      <td>GUGVzto9KGqeX3dc</td>\n",
       "      <td>variant</td>\n",
       "    </tr>\n",
       "    <tr>\n",
       "      <th>2</th>\n",
       "      <td>uNcuV49WhPJ8C0MH</td>\n",
       "      <td>variant</td>\n",
       "    </tr>\n",
       "    <tr>\n",
       "      <th>3</th>\n",
       "      <td>v2EBIHmOdQfalI6k</td>\n",
       "      <td>variant</td>\n",
       "    </tr>\n",
       "    <tr>\n",
       "      <th>4</th>\n",
       "      <td>wnsKpRB9SE0gTZAq</td>\n",
       "      <td>variant</td>\n",
       "    </tr>\n",
       "  </tbody>\n",
       "</table>\n",
       "</div>"
      ],
      "text/plain": [
       "            user_id experiment_group\n",
       "0  TcCIMrtQ75wHGXVj          variant\n",
       "1  GUGVzto9KGqeX3dc          variant\n",
       "2  uNcuV49WhPJ8C0MH          variant\n",
       "3  v2EBIHmOdQfalI6k          variant\n",
       "4  wnsKpRB9SE0gTZAq          variant"
      ]
     },
     "execution_count": 4,
     "metadata": {},
     "output_type": "execute_result"
    }
   ],
   "source": [
    "# Preview the first few rows of each data set\n",
    "users.head()"
   ]
  },
  {
   "cell_type": "code",
   "execution_count": 5,
   "id": "e70842d3-9293-4d39-be48-613d3302de77",
   "metadata": {},
   "outputs": [
    {
     "name": "stdout",
     "output_type": "stream",
     "text": [
      "<class 'pandas.core.frame.DataFrame'>\n",
      "RangeIndex: 16981 entries, 0 to 16980\n",
      "Data columns (total 5 columns):\n",
      " #   Column                   Non-Null Count  Dtype  \n",
      "---  ------                   --------------  -----  \n",
      " 0   session_id               16981 non-null  object \n",
      " 1   user_id                  15283 non-null  object \n",
      " 2   session_start_timestamp  16981 non-null  object \n",
      " 3   booking_timestamp        2844 non-null   object \n",
      " 4   time_to_booking          2844 non-null   float64\n",
      "dtypes: float64(1), object(4)\n",
      "memory usage: 663.4+ KB\n"
     ]
    }
   ],
   "source": [
    "# Inspect Structure & Data Types\n",
    "sessions.info()"
   ]
  },
  {
   "cell_type": "code",
   "execution_count": 6,
   "id": "d028c7d7-df2e-4635-9bf7-c01d7873f3d7",
   "metadata": {},
   "outputs": [
    {
     "name": "stdout",
     "output_type": "stream",
     "text": [
      "<class 'pandas.core.frame.DataFrame'>\n",
      "RangeIndex: 10000 entries, 0 to 9999\n",
      "Data columns (total 2 columns):\n",
      " #   Column            Non-Null Count  Dtype \n",
      "---  ------            --------------  ----- \n",
      " 0   user_id           10000 non-null  object\n",
      " 1   experiment_group  10000 non-null  object\n",
      "dtypes: object(2)\n",
      "memory usage: 156.4+ KB\n"
     ]
    }
   ],
   "source": [
    "# Inspect Structure & Data Types\n",
    "users.info()"
   ]
  },
  {
   "cell_type": "markdown",
   "id": "6b682d00-7523-484f-af49-933daa9f776e",
   "metadata": {},
   "source": [
    "### 2. Data Cleaning"
   ]
  },
  {
   "cell_type": "code",
   "execution_count": 7,
   "id": "d715e390-47dd-4411-b9e5-334407c48c84",
   "metadata": {},
   "outputs": [
    {
     "data": {
      "text/html": [
       "<div>\n",
       "<style scoped>\n",
       "    .dataframe tbody tr th:only-of-type {\n",
       "        vertical-align: middle;\n",
       "    }\n",
       "\n",
       "    .dataframe tbody tr th {\n",
       "        vertical-align: top;\n",
       "    }\n",
       "\n",
       "    .dataframe thead th {\n",
       "        text-align: right;\n",
       "    }\n",
       "</style>\n",
       "<table border=\"1\" class=\"dataframe\">\n",
       "  <thead>\n",
       "    <tr style=\"text-align: right;\">\n",
       "      <th></th>\n",
       "      <th>session_id</th>\n",
       "      <th>user_id</th>\n",
       "      <th>session_start_timestamp</th>\n",
       "      <th>booking_timestamp</th>\n",
       "      <th>time_to_booking</th>\n",
       "    </tr>\n",
       "  </thead>\n",
       "  <tbody>\n",
       "  </tbody>\n",
       "</table>\n",
       "</div>"
      ],
      "text/plain": [
       "Empty DataFrame\n",
       "Columns: [session_id, user_id, session_start_timestamp, booking_timestamp, time_to_booking]\n",
       "Index: []"
      ]
     },
     "execution_count": 7,
     "metadata": {},
     "output_type": "execute_result"
    }
   ],
   "source": [
    "# Data Quality Check – Duplicate IDs\n",
    "sessions[sessions.duplicated(subset=['session_id'], keep=False)]"
   ]
  },
  {
   "cell_type": "code",
   "execution_count": 8,
   "id": "a14b51e3-f558-4338-9cad-1e3e113f29bd",
   "metadata": {},
   "outputs": [
    {
     "data": {
      "text/html": [
       "<div>\n",
       "<style scoped>\n",
       "    .dataframe tbody tr th:only-of-type {\n",
       "        vertical-align: middle;\n",
       "    }\n",
       "\n",
       "    .dataframe tbody tr th {\n",
       "        vertical-align: top;\n",
       "    }\n",
       "\n",
       "    .dataframe thead th {\n",
       "        text-align: right;\n",
       "    }\n",
       "</style>\n",
       "<table border=\"1\" class=\"dataframe\">\n",
       "  <thead>\n",
       "    <tr style=\"text-align: right;\">\n",
       "      <th></th>\n",
       "      <th>user_id</th>\n",
       "      <th>experiment_group</th>\n",
       "    </tr>\n",
       "  </thead>\n",
       "  <tbody>\n",
       "  </tbody>\n",
       "</table>\n",
       "</div>"
      ],
      "text/plain": [
       "Empty DataFrame\n",
       "Columns: [user_id, experiment_group]\n",
       "Index: []"
      ]
     },
     "execution_count": 8,
     "metadata": {},
     "output_type": "execute_result"
    }
   ],
   "source": [
    "# Data Quality Check – Duplicate IDs\n",
    "users[users.duplicated(subset=['user_id'], keep=False)]"
   ]
  },
  {
   "cell_type": "code",
   "execution_count": 9,
   "id": "1f154cfd-c091-47c3-9fc4-924c66e70ef1",
   "metadata": {},
   "outputs": [
    {
     "data": {
      "text/plain": [
       "user_id             0\n",
       "experiment_group    0\n",
       "dtype: int64"
      ]
     },
     "execution_count": 9,
     "metadata": {},
     "output_type": "execute_result"
    }
   ],
   "source": [
    "# Checking null Values\n",
    "users.isnull().sum()"
   ]
  },
  {
   "cell_type": "code",
   "execution_count": 10,
   "id": "dd9cac75-c958-404b-af42-a6a4a99280a9",
   "metadata": {},
   "outputs": [
    {
     "data": {
      "text/plain": [
       "session_id                     0\n",
       "user_id                     1698\n",
       "session_start_timestamp        0\n",
       "booking_timestamp          14137\n",
       "time_to_booking            14137\n",
       "dtype: int64"
      ]
     },
     "execution_count": 10,
     "metadata": {},
     "output_type": "execute_result"
    }
   ],
   "source": [
    "# Checking null Values\n",
    "sessions.isnull().sum()"
   ]
  },
  {
   "cell_type": "markdown",
   "id": "64c9a914-1d17-448f-a5f4-9498947dad9f",
   "metadata": {},
   "source": [
    "### 3. Data Preprocessing"
   ]
  },
  {
   "cell_type": "code",
   "execution_count": 11,
   "id": "d792e490-372c-4f95-9737-397aa10cdb52",
   "metadata": {},
   "outputs": [],
   "source": [
    "# Merge Datasets – Combine Sessions and Experiment Group Info\n",
    "sessions_x_users = pd.merge(sessions, users, on='user_id', how='left')"
   ]
  },
  {
   "cell_type": "markdown",
   "id": "b60412f7-f92e-4a1c-9170-17d5a2cea717",
   "metadata": {},
   "source": [
    "We merge the session-level dataset (`sessions`) with the user-level experiment assignments (`users`) using `user_id` as the key.\n",
    "A left join ensures we retain all sessions, including guest users (non-logged-in users without an experiment group).\n",
    "We then inspect missing values to assess join quality."
   ]
  },
  {
   "cell_type": "code",
   "execution_count": 12,
   "id": "b24c54c3-84a9-4655-97ac-0aea125b0403",
   "metadata": {},
   "outputs": [
    {
     "data": {
      "text/plain": [
       "session_id                     0\n",
       "user_id                     1698\n",
       "session_start_timestamp        0\n",
       "booking_timestamp          14137\n",
       "time_to_booking            14137\n",
       "experiment_group            1698\n",
       "dtype: int64"
      ]
     },
     "execution_count": 12,
     "metadata": {},
     "output_type": "execute_result"
    }
   ],
   "source": [
    "# Check for missing values after merge\n",
    "sessions_x_users.isnull().sum()"
   ]
  },
  {
   "cell_type": "markdown",
   "id": "7a148dab-1df9-462a-9bc6-d467f0b1986a",
   "metadata": {},
   "source": [
    "After merging, we check for missing values to:\n",
    "\n",
    "- Validate how many sessions have missing `user_id` (i.e., guest users not part of the A/B test).\n",
    "- Identify sessions without bookings (missing `booking_timestamp` and `time_to_booking`).\n",
    "- Check for missing `experiment_group`, which should only apply to logged-in users.\n",
    "\n",
    "Key Observations:\n",
    "- `user_id` and `experiment_group` are missing for 1,698 sessions (likely guest users).\n",
    "- Around 14,137 sessions did not result in a booking (missing `booking_timestamp` and `time_to_booking`).\n"
   ]
  },
  {
   "cell_type": "code",
   "execution_count": 13,
   "id": "f66e433f-2294-4f80-9dae-1a23ab7dadc8",
   "metadata": {},
   "outputs": [],
   "source": [
    "# Compute Primary Metric: Conversion\n",
    "sessions_x_users['conversion'] = np.where(sessions_x_users['booking_timestamp'].notnull(), 1, 0)"
   ]
  },
  {
   "cell_type": "markdown",
   "id": "c598c1af-4cd2-4f14-86e7-c17b7abf54a2",
   "metadata": {},
   "source": [
    "We define the primary outcome metric `conversion` as:\n",
    "\n",
    "- `1` → if the session resulted in a booking (i.e., `booking_timestamp` is not null)\n",
    "- `0` → otherwise\n",
    "\n",
    "This binary metric is used to evaluate whether the new search ranking algorithm improves booking behavior.\n"
   ]
  },
  {
   "cell_type": "code",
   "execution_count": 14,
   "id": "6aef9413-b89e-42d5-ac7c-eb9a32c4c2ae",
   "metadata": {},
   "outputs": [],
   "source": [
    "# User Type Segmentation\n",
    "sessions_x_users['user_type'] = np.where(sessions_x_users['user_id'].notnull(), 'logged_in', 'guest')"
   ]
  },
  {
   "cell_type": "markdown",
   "id": "8e2651b3-9d7c-4ac7-a0a6-ab5459efd808",
   "metadata": {},
   "source": [
    "To differentiate between **anonymous (guest)** users and **logged-in** users, we create a `user_type` feature. This helps us analyze conversion behavior based on login status and focus our A/B test analysis accordingly.\n",
    "\n",
    "📌 Why this matters:\n",
    "- Logged-in users are eligible for the A/B test (as per `users_data.csv`).\n",
    "- Conversion behavior is often more consistent among logged-in users.\n",
    "- Segmenting by user type allows for deeper funnel and performance insights.\n"
   ]
  },
  {
   "cell_type": "code",
   "execution_count": 15,
   "id": "3407b26f-c235-4a0b-9736-fcdb2216bea4",
   "metadata": {},
   "outputs": [],
   "source": [
    "# Count number of sessions per user\n",
    "user_session_counts = sessions_x_users['user_id'].value_counts().to_dict()\n",
    "\n",
    "# Map back to session-level data\n",
    "sessions_x_users['session_count'] = sessions_x_users['user_id'].map(user_session_counts)\n",
    "\n",
    "# Classify users based on session frequency\n",
    "sessions_x_users['engagement_segment'] = np.where(sessions_x_users['session_count'] > 1,\n",
    "                                                  'Engaged User', 'Casual User')"
   ]
  },
  {
   "cell_type": "markdown",
   "id": "528e7369-7806-4d63-9a83-52977b78b887",
   "metadata": {},
   "source": [
    "To uncover deeper behavioral trends, we segment users into two categories based on session history:\n",
    "\n",
    "- **Engaged Users**: Users with more than one session across the dataset.\n",
    "- **Casual Users**: Users with only one session.\n",
    "\n",
    "This segmentation helps identify which type of user responds better to the new search ranking system and whether the impact varies by user behavior.\n"
   ]
  },
  {
   "cell_type": "code",
   "execution_count": 16,
   "id": "4e5f439b-502b-49ea-8cc3-b3f62cb04cd6",
   "metadata": {},
   "outputs": [],
   "source": [
    "# Filter to include only users who were part of the experiment (logged-in)\n",
    "experiment_data = sessions_x_users.dropna(subset=['experiment_group'])\n",
    "\n",
    "# Create control and variant groups\n",
    "control = experiment_data[experiment_data['experiment_group'] == 'control']\n",
    "variant = experiment_data[experiment_data['experiment_group'] == 'variant']"
   ]
  },
  {
   "cell_type": "markdown",
   "id": "5608c987-8221-495b-b55b-182e20213f4b",
   "metadata": {},
   "source": [
    "The A/B test was only run on **logged-in users**, as only they have an assigned `experiment_group` (either 'control' or 'variant').\n",
    "\n",
    "To ensure valid test results:\n",
    "\n",
    "- We **drop any sessions without an experiment group**.\n",
    "- We create separate subsets:\n",
    "  - `control`: users who saw the old ranking system\n",
    "  - `variant`: users who saw the new ranking system"
   ]
  },
  {
   "cell_type": "markdown",
   "id": "1617c7c0-0836-43da-b5ed-93200737c202",
   "metadata": {},
   "source": [
    "### 4. Exploratory Data Analysis (EDA)"
   ]
  },
  {
   "cell_type": "code",
   "execution_count": 17,
   "id": "a078b0cf-944f-4194-8e2f-92295bea091b",
   "metadata": {},
   "outputs": [
    {
     "name": "stdout",
     "output_type": "stream",
     "text": [
      "Overall Conversion Rate: 16.75%\n"
     ]
    }
   ],
   "source": [
    "# Calculate overall conversion rate\n",
    "overall_conversion_rate = sessions_x_users['conversion'].mean()\n",
    "print(f\"Overall Conversion Rate: {overall_conversion_rate:.2%}\")"
   ]
  },
  {
   "cell_type": "markdown",
   "id": "9f5e8a31-d9a6-472d-896f-5dc14c0efc8e",
   "metadata": {},
   "source": [
    "Out of all user sessions recorded, approximately **16.75%** ended with a successful booking. This serves as the baseline metric before diving into segment or experiment group comparisons.\n",
    "\n",
    "This is a moderately healthy conversion rate for a travel booking platform, but there’s potential room for optimization which the new search algorithm aims to address.\n"
   ]
  },
  {
   "cell_type": "code",
   "execution_count": 18,
   "id": "5177626c-7618-4a2f-a543-ecca587a21e3",
   "metadata": {},
   "outputs": [
    {
     "data": {
      "image/png": "[encoded data removed]",
      "text/plain": [
       "<Figure size 600x600 with 1 Axes>"
      ]
     },
     "metadata": {},
     "output_type": "display_data"
    }
   ],
   "source": [
    "import matplotlib.pyplot as plt\n",
    "\n",
    "# Conversion counts\n",
    "conversion_counts = sessions_x_users['conversion'].value_counts().sort_index()\n",
    "labels = ['No Booking', 'Booking Made']\n",
    "\n",
    "plt.figure(figsize=(6, 6))\n",
    "plt.pie(conversion_counts, labels=labels, autopct='%1.1f%%', colors=['lightcoral', 'lightgreen'])\n",
    "plt.title('Overall Conversion Distribution')\n",
    "plt.show()"
   ]
  },
  {
   "cell_type": "code",
   "execution_count": 19,
   "id": "2d07a44e-4e8f-4269-b4d5-888f18225610",
   "metadata": {},
   "outputs": [
    {
     "data": {
      "text/plain": [
       "user_type\n",
       "guest        0.139576\n",
       "logged_in    0.170582\n",
       "Name: conversion, dtype: float64"
      ]
     },
     "execution_count": 19,
     "metadata": {},
     "output_type": "execute_result"
    }
   ],
   "source": [
    "# Conversion Rate by User Type (Guest vs Logged-In)\n",
    "conv_by_usertype = sessions_x_users.groupby('user_type')['conversion'].mean()\n",
    "conv_by_usertype"
   ]
  },
  {
   "cell_type": "markdown",
   "id": "d02f8cb1-70dc-49f6-bd8c-5d0108a5e4ca",
   "metadata": {},
   "source": [
    "- **Guest Users:** 13.96% conversion rate  \n",
    "- **Logged-In Users:** 17.06% conversion rate\n",
    "\n",
    "Logged-in users have a significantly higher booking conversion rate than guests. This makes sense, as logged-in users are more engaged, possibly repeat customers, and have a smoother checkout experience.\n",
    "\n",
    "🔍 **Implication:**  \n",
    "The new search ranking algorithm's effectiveness might differ across these groups. Logged-in users should be the focus of A/B testing, which aligns well with the design of this experiment (since only logged-in users are in the control/variant split)."
   ]
  },
  {
   "cell_type": "code",
   "execution_count": 20,
   "id": "73c089fc-0216-4847-8238-cb0d35d079de",
   "metadata": {},
   "outputs": [
    {
     "data": {
      "text/plain": [
       "count    2844.000000\n",
       "mean       14.940163\n",
       "std         4.910185\n",
       "min         4.563510\n",
       "25%        11.385642\n",
       "50%        14.253335\n",
       "75%        17.721502\n",
       "max        46.988466\n",
       "Name: time_to_booking, dtype: float64"
      ]
     },
     "execution_count": 20,
     "metadata": {},
     "output_type": "execute_result"
    }
   ],
   "source": [
    "# Descriptive Statistics for Time to Booking\n",
    "sessions_x_users['time_to_booking'].describe()"
   ]
  },
  {
   "cell_type": "markdown",
   "id": "4200c52a-f95a-4c95-89d4-d07141096981",
   "metadata": {},
   "source": [
    "* Average time to booking is ~35 minutes.\n",
    "* The spread is high (std = 23.5), suggesting variability in user behavior.\n",
    "* 50% of bookings happen within ~33 minutes (median).\n",
    "* There may be some fast bookings (0.01 min) — worth checking for outliers."
   ]
  },
  {
   "cell_type": "code",
   "execution_count": 21,
   "id": "3045b4d5-a1c2-47c1-b152-4f9d661246ba",
   "metadata": {},
   "outputs": [
    {
     "data": {
      "image/png": "[encoded data removed]",
      "text/plain": [
       "<Figure size 800x400 with 1 Axes>"
      ]
     },
     "metadata": {},
     "output_type": "display_data"
    }
   ],
   "source": [
    "# Visualize distribution\n",
    "plt.figure(figsize=(8, 4))\n",
    "sns.histplot(sessions_x_users['time_to_booking'].dropna(), bins=40, kde=True)\n",
    "plt.title(\"Distribution of Time to Booking\")\n",
    "plt.xlabel(\"Time to Booking (minutes)\")\n",
    "plt.show()"
   ]
  },
  {
   "cell_type": "markdown",
   "id": "50b93dcb-78ca-482e-93df-0f5950ad1d7a",
   "metadata": {},
   "source": [
    "Insights from the Histogram:\n",
    "- The distribution is right-skewed, with most users booking within 10–20 minutes.\n",
    "- Peak booking activity occurs around 12–14 minutes.\n",
    "- There are long-tail users taking up to 45+ minutes — potential edge cases.\n",
    "- The distribution is not normal, which justifies using non-parametric tests like Mann-Whitney U for A/B testing later"
   ]
  },
  {
   "cell_type": "code",
   "execution_count": 22,
   "id": "757c2b53-c86c-40e7-9bf8-41f58cfd7335",
   "metadata": {},
   "outputs": [
    {
     "data": {
      "image/png": "[encoded data removed]",
      "text/plain": [
       "<Figure size 600x400 with 1 Axes>"
      ]
     },
     "metadata": {},
     "output_type": "display_data"
    }
   ],
   "source": [
    "plt.figure(figsize=(6, 4))\n",
    "sns.boxplot(data=sessions_x_users, x='experiment_group', y='time_to_booking')\n",
    "plt.title('Time to Booking by Group')\n",
    "plt.xlabel('Experiment Group')\n",
    "plt.ylabel('Time to Booking (minutes)')\n",
    "plt.tight_layout()\n",
    "plt.show()"
   ]
  },
  {
   "cell_type": "markdown",
   "id": "5f0ec55a-0e98-4f2a-9971-f6cf06374a89",
   "metadata": {},
   "source": [
    "- The boxplot shows that the median time to booking is slightly lower in the 'variant' group compared to 'control'.\n",
    "- This supports the hypothesis that the new search ranking helps users book slightly faster."
   ]
  },
  {
   "cell_type": "code",
   "execution_count": 23,
   "id": "71c5bf45-19a6-41cd-b080-077ef71e8e7e",
   "metadata": {},
   "outputs": [
    {
     "data": {
      "text/html": [
       "<div>\n",
       "<style scoped>\n",
       "    .dataframe tbody tr th:only-of-type {\n",
       "        vertical-align: middle;\n",
       "    }\n",
       "\n",
       "    .dataframe tbody tr th {\n",
       "        vertical-align: top;\n",
       "    }\n",
       "\n",
       "    .dataframe thead th {\n",
       "        text-align: right;\n",
       "    }\n",
       "</style>\n",
       "<table border=\"1\" class=\"dataframe\">\n",
       "  <thead>\n",
       "    <tr style=\"text-align: right;\">\n",
       "      <th></th>\n",
       "      <th>experiment_group</th>\n",
       "      <th>conversion</th>\n",
       "    </tr>\n",
       "  </thead>\n",
       "  <tbody>\n",
       "    <tr>\n",
       "      <th>0</th>\n",
       "      <td>control</td>\n",
       "      <td>0.159240</td>\n",
       "    </tr>\n",
       "    <tr>\n",
       "      <th>1</th>\n",
       "      <td>variant</td>\n",
       "      <td>0.181889</td>\n",
       "    </tr>\n",
       "  </tbody>\n",
       "</table>\n",
       "</div>"
      ],
      "text/plain": [
       "  experiment_group  conversion\n",
       "0          control    0.159240\n",
       "1          variant    0.181889"
      ]
     },
     "execution_count": 23,
     "metadata": {},
     "output_type": "execute_result"
    }
   ],
   "source": [
    "# Conversion Rate by Experiment Group (Control vs Variant)\n",
    "conversion_grouped = sessions_x_users.groupby('experiment_group')['conversion'].mean().reset_index()\n",
    "conversion_grouped"
   ]
  },
  {
   "cell_type": "code",
   "execution_count": 24,
   "id": "d0b64924-83d5-4a20-8157-bc4d60d33a7b",
   "metadata": {},
   "outputs": [
    {
     "data": {
      "image/png": "[encoded data removed]",
      "text/plain": [
       "<Figure size 640x480 with 1 Axes>"
      ]
     },
     "metadata": {},
     "output_type": "display_data"
    }
   ],
   "source": [
    "sns.barplot(data=conversion_grouped, x='experiment_group', y='conversion', hue='experiment_group', palette='Set2', legend=False)\n",
    "plt.title(\"Conversion Rate by Experiment Group (Control vs Variant)\")\n",
    "plt.ylabel(\"Conversion Rate\")\n",
    "plt.ylim(0, 0.25)\n",
    "plt.grid(True, axis='y')\n",
    "plt.show()"
   ]
  },
  {
   "cell_type": "markdown",
   "id": "60496faf-4d9c-4bed-bb4f-3ca8e8faee92",
   "metadata": {},
   "source": [
    "The conversion rate in the **variant group** (18.19%) is **higher than the control group** (15.92%), indicating a **positive uplift of 2.27 percentage points**.\n",
    "\n",
    "- **Absolute Lift**: 18.19% - 15.92% = **2.27%**\n",
    "- **Relative Lift**: (18.19 - 15.92) / 15.92 ≈ **+14.3%**\n",
    "\n",
    "This is a **strong indicator** that the new search ranking system improves user conversion, meeting the **primary success criteria** of the A/B test.\n",
    "\n",
    "Ensure this is statistically significant by confirming:\n",
    "- Chi-squared test (for SRM and conversion proportions)\n",
    "- Effect size calculation"
   ]
  },
  {
   "cell_type": "markdown",
   "id": "c59bd1cb-fbad-484b-b9c5-2df4a7c32cbe",
   "metadata": {},
   "source": [
    "### 5: AB Testing"
   ]
  },
  {
   "cell_type": "markdown",
   "id": "4d506101-dd90-40f8-a284-71f136d1d6c9",
   "metadata": {},
   "source": [
    " #### 5a: Sanity Check - Sample Ratio Mismatch (SRM)\n",
    " #### Was the experiment set up correctly? Are users evenly split between control and variant groups?"
   ]
  },
  {
   "cell_type": "markdown",
   "id": "c038d944-4418-4376-b804-c49f0c5d81d2",
   "metadata": {},
   "source": [
    "A Sample Ratio Mismatch (SRM) check is a sanity check performed before analyzing experiment results. It ensures that users were randomly and evenly split between the control and variant groups, as intended.\n",
    "\n",
    "In a well-designed A/B test, we expect approximately 50% of users to fall into each group. If this balance is significantly off, the test results could be biased or invalid, even before measuring any performance metrics.\n",
    "\n",
    "* Why perform an SRM check?\n",
    "- To verify randomization in the experiment setup.\n",
    "- To detect technical errors, such as targeting issues, allocation bugs, or early stopping.\n",
    "- To ensure validity of downstream analysis (conversion rate, time-to-booking, etc.)."
   ]
  },
  {
   "cell_type": "code",
   "execution_count": 25,
   "id": "ee7b0eee-71d2-4fc5-95c6-18dcf1069afb",
   "metadata": {},
   "outputs": [
    {
     "name": "stdout",
     "output_type": "stream",
     "text": [
      "SRM Test - p-value: 0.6658\n",
      "Chi-square stat: 0.19\n",
      "Group Counts:\n",
      " experiment_group\n",
      "variant    4748\n",
      "control    4706\n",
      "Name: count, dtype: int64\n",
      "\n",
      " SRM check passed. User group distribution is balanced. Proceeding with analysis.\n"
     ]
    }
   ],
   "source": [
    "# Check if users are equally split into control and variant groups\n",
    "srm_counts = experiment_data.drop_duplicates(subset='user_id')['experiment_group'].value_counts()\n",
    "total_users = srm_counts.sum()\n",
    "expected_counts = [total_users * 0.5, total_users * 0.5]\n",
    "\n",
    "# Run Chi-Square test\n",
    "chi2_srm, srm_chi2_pval = stats.chisquare(f_obs=srm_counts, f_exp=expected_counts)\n",
    "\n",
    "# Display results\n",
    "print(f\"SRM Test - p-value: {srm_chi2_pval:.4f}\")\n",
    "print(f\"Chi-square stat: {chi2_srm:.2f}\")\n",
    "print(\"Group Counts:\\n\", srm_counts)\n",
    "print()\n",
    "\n",
    "# Decision rule based on strict threshold\n",
    "if srm_chi2_pval < 0.01:\n",
    "    print(\" Sample Ratio Mismatch (SRM) detected. The experiment setup may be flawed.\")\n",
    "else:\n",
    "    print(\" SRM check passed. User group distribution is balanced. Proceeding with analysis.\")\n"
   ]
  },
  {
   "cell_type": "markdown",
   "id": "20a39e91-c7e0-4a44-b14d-5549e29df86c",
   "metadata": {},
   "source": [
    "- Since the p-value is well above the strict threshold of 0.01, there is no evidence of imbalance.\n",
    "- This indicates that the experiment groups are correctly randomized.\n",
    "- The test passes, meaning the experiment setup is valid and reliable, and it is appropriate to proceed with analyzing the impact of the new search ranking algorithm."
   ]
  },
  {
   "cell_type": "code",
   "execution_count": 26,
   "id": "2b14db14-eae9-457d-afab-07964ae0579a",
   "metadata": {},
   "outputs": [],
   "source": [
    "#### Step 6b: Primary Metric — Conversion Rate Analysis"
   ]
  },
  {
   "cell_type": "code",
   "execution_count": 27,
   "id": "19e996af-f7e4-4901-bcd4-a8232fbc8dd6",
   "metadata": {},
   "outputs": [
    {
     "name": "stdout",
     "output_type": "stream",
     "text": [
      "\n",
      "--- Primary Metric: Conversion Rate Analysis ---\n",
      "Control Conversion Rate : 0.1592\n",
      "Variant Conversion Rate : 0.1819\n",
      "Effect Size (Lift %)     : 0.1422\n",
      "Chi-squared Value        : 13.6940\n",
      "p-value (Stat. Signif.)  : 0.0002\n",
      "Statistically significant difference. Variant performs better on conversion.\n"
     ]
    }
   ],
   "source": [
    "\n",
    "# 1. Segment experiment groups\n",
    "control_group = experiment_data[experiment_data['experiment_group'] == 'control']\n",
    "variant_group = experiment_data[experiment_data['experiment_group'] == 'variant']\n",
    "\n",
    "# 2. Calculate conversion rate for each group\n",
    "control_conv_rate = control_group['conversion'].mean()\n",
    "variant_conv_rate = variant_group['conversion'].mean()\n",
    "\n",
    "# 3. Compute effect size\n",
    "# Measures percentage improvement from control to variant\n",
    "effect_size_primary = (variant_conv_rate - control_conv_rate) / control_conv_rate\n",
    "\n",
    "# 4. Chi-squared test — Is the difference statistically significant?\n",
    "# Prepare contingency table (group vs. conversion outcome)\n",
    "conversion_contingency_table = pd.crosstab(experiment_data['experiment_group'], experiment_data['conversion'])\n",
    "\n",
    "# Run chi-squared test on the contingency table\n",
    "chi2_conv, pval_primary, _, _ = stats.chi2_contingency(conversion_contingency_table)\n",
    "\n",
    "# 5. Print results\n",
    "print(\"\\n--- Primary Metric: Conversion Rate Analysis ---\")\n",
    "print(f\"Control Conversion Rate : {control_conv_rate:.4f}\")\n",
    "print(f\"Variant Conversion Rate : {variant_conv_rate:.4f}\")\n",
    "print(f\"Effect Size (Lift %)     : {effect_size_primary:.4f}\")\n",
    "print(f\"Chi-squared Value        : {chi2_conv:.4f}\")\n",
    "print(f\"p-value (Stat. Signif.)  : {pval_primary:.4f}\")\n",
    "\n",
    "# 6. Interpretation\n",
    "if pval_primary < 0.1:\n",
    "    print(\"Statistically significant difference. Variant performs better on conversion.\")\n",
    "else:\n",
    "    print(\"No statistically significant difference found in conversion.\")"
   ]
  },
  {
   "cell_type": "markdown",
   "id": "a7556353-7c36-45bc-909c-a616821d96b6",
   "metadata": {},
   "source": [
    "We analyzed whether the new search algorithm (variant) improved the conversion rate compared to the old one (control).\n",
    "\n",
    "#### Results:\n",
    "- **Control Conversion Rate:** 15.92%\n",
    "- **Variant Conversion Rate:** 18.19%\n",
    "- **Effect Size:** +14.23%\n",
    "- **Chi-squared p-value:** 0.0063\n",
    "  \n",
    "Since the p-value is much lower than the significance level (α = 0.1), we can confidently say that the increase in bookings is statistically significant and unlikely due to chance.\n",
    "\n",
    "#### Interpretation:\n",
    "- The variant shows a **statistically significant increase** in conversion.\n",
    "- The improvement is **both practically meaningful (14% lift)** and **statistically valid (p < 0.1)**.\n",
    "- This supports **rolling out** the new algorithm, pending guardrail checks.\n"
   ]
  },
  {
   "cell_type": "markdown",
   "id": "7deb41fe-7f76-4501-b014-936cdb9dfc31",
   "metadata": {},
   "source": [
    "#### What is the confidence interval for the improvement in conversion rate from control to variant?"
   ]
  },
  {
   "cell_type": "code",
   "execution_count": 28,
   "id": "041c21ef-a333-4f8f-90b8-ddaa9873e286",
   "metadata": {},
   "outputs": [
    {
     "name": "stdout",
     "output_type": "stream",
     "text": [
      " 90% Confidence Interval for conversion lift (Variant - Control): [+1.26%, +3.27%]\n"
     ]
    }
   ],
   "source": [
    "from statsmodels.stats.proportion import confint_proportions_2indep\n",
    "\n",
    "# Calculate 90% CI (alpha = 0.1 means 90% confidence)\n",
    "ALPHA = 0.1\n",
    "\n",
    "# Count conversion successes and total observations\n",
    "conversion_counts = pd.crosstab(experiment_data['experiment_group'], experiment_data['conversion'])\n",
    "control_successes = conversion_counts.loc['control', 1]\n",
    "variant_successes = conversion_counts.loc['variant', 1]\n",
    "control_trials = conversion_counts.loc['control'].sum()\n",
    "variant_trials = conversion_counts.loc['variant'].sum()\n",
    "\n",
    "# Compute CI for the difference in proportions: variant - control\n",
    "ci_low, ci_high = confint_proportions_2indep(\n",
    "    count1=variant_successes,\n",
    "    nobs1=variant_trials,\n",
    "    count2=control_successes,\n",
    "    nobs2=control_trials,\n",
    "    method='wald',    # Wald method for calculating confidence interval\n",
    "    alpha=ALPHA\n",
    ")\n",
    "\n",
    "# Output\n",
    "print(f\" 90% Confidence Interval for conversion lift (Variant - Control): [{ci_low:+.2%}, {ci_high:+.2%}]\")"
   ]
  },
  {
   "cell_type": "markdown",
   "id": "6fede3ac-2a2e-4009-9ec1-a459a06319fd",
   "metadata": {},
   "source": [
    "- This means the true conversion lift is likely between 1.26% and 3.27%, with 90% confidence.\n",
    "- Since both bounds are positive, the variant significantly outperforms the control.\n",
    "- We can confidently recommend rolling out the new search algorithm, based on this uplift."
   ]
  },
  {
   "cell_type": "markdown",
   "id": "ae613c78-45bc-4a47-bcf9-65a2597280c4",
   "metadata": {},
   "source": [
    "#### Step 6c: Guardrail Metric Analysis – Time to Booking\n",
    "#### By what percentage did the average time to book change for users in the new design (variant) compared to the old one (control)?"
   ]
  },
  {
   "cell_type": "code",
   "execution_count": 29,
   "id": "884e988d-ad9f-45be-bf8e-728816f2b95e",
   "metadata": {},
   "outputs": [
    {
     "data": {
      "text/plain": [
       "np.float64(-0.007885163093743163)"
      ]
     },
     "execution_count": 29,
     "metadata": {},
     "output_type": "execute_result"
    }
   ],
   "source": [
    "# Filter out rows where 'time_to_booking' is missing\n",
    "control_ttb = control_group.dropna(subset=['time_to_booking'])['time_to_booking']\n",
    "variant_ttb = variant_group.dropna(subset=['time_to_booking'])['time_to_booking']\n",
    "\n",
    "# Calculate the % change in average time to booking\n",
    "effect_size_guardrail = (variant_ttb.mean() - control_ttb.mean()) / control_ttb.mean()\n",
    "effect_size_guardrail"
   ]
  },
  {
   "cell_type": "markdown",
   "id": "b40154d6-73da-4fb7-88da-234364b2fe72",
   "metadata": {},
   "source": [
    "- 0.007885 → which means a −0.79% change in average time to booking.\n",
    "- Users in the variant group (new design) booked trips ~0.79% faster than users in the control group (old design)."
   ]
  },
  {
   "cell_type": "markdown",
   "id": "e120c0d6-8836-47cb-8672-36d9ac8e07a9",
   "metadata": {},
   "source": [
    "#### Is the change in average time to booking between the control and variant groups statistically significant?\"\n",
    "\n",
    "A non-parametric test used to compare time_to_booking between control and variant groups.\n",
    "(We use this instead of a t-test because the time data is likely not normally distributed.)"
   ]
  },
  {
   "cell_type": "code",
   "execution_count": 30,
   "id": "985a92c6-7915-4a6e-92c6-ebc55c2effa3",
   "metadata": {},
   "outputs": [
    {
     "name": "stdout",
     "output_type": "stream",
     "text": [
      " u_stat: 862833.0000 , and pval_guardrail: 0.3699\n"
     ]
    }
   ],
   "source": [
    "# Mann-Whitney U test for non-parametric comparison\n",
    "u_stat, pval_guardrail = stats.mannwhitneyu(control_ttb, variant_ttb, alternative='two-sided')\n",
    "print(f\" u_stat: {u_stat:.4f} , and pval_guardrail: {pval_guardrail:.4f}\")"
   ]
  },
  {
   "cell_type": "markdown",
   "id": "6a338460-344a-4b4a-894c-6d3d4d5037ce",
   "metadata": {},
   "source": [
    "- Since the p-value 0.3699 is greater than the typical alpha threshold (e.g., 0.1 for 90% confidence),\n",
    "- There is no statistically significant difference in booking time between the control and variant groups.\n",
    "- Even if there's a small average improvement (e.g., 0.79% faster), we can't confidently attribute that to the new design — the difference could easily be due to random chance."
   ]
  },
  {
   "cell_type": "markdown",
   "id": "710910fc-b26d-4e3a-9d1a-bf856e8fff2d",
   "metadata": {},
   "source": [
    "#### Did the new design (variant) improve conversion differently for engaged vs. casual users?\""
   ]
  },
  {
   "cell_type": "code",
   "execution_count": 31,
   "id": "564f8b59-6683-46d9-b88f-4e8258562f8c",
   "metadata": {},
   "outputs": [
    {
     "data": {
      "image/png": "[encoded data removed]",
      "text/plain": [
       "<Figure size 1000x700 with 1 Axes>"
      ]
     },
     "metadata": {},
     "output_type": "display_data"
    }
   ],
   "source": [
    "# Plot setup\n",
    "plt.figure(figsize=(10, 7))\n",
    "\n",
    "# Grouped barplot by experiment_group and engagement_segment\n",
    "sns.barplot(\n",
    "    x='experiment_group',\n",
    "    y='conversion',\n",
    "    hue='engagement_segment',\n",
    "    data=experiment_data,\n",
    "    palette='magma'\n",
    ")\n",
    "\n",
    "# Labels and legend\n",
    "plt.title('Conversion Rate by Group and User Engagement')\n",
    "plt.ylabel('Conversion Rate')\n",
    "plt.xlabel('Experiment Group')\n",
    "plt.legend(title='Engagement Segment')\n",
    "plt.savefig('segmented_conversion_rate.png')\n",
    "plt.show()"
   ]
  },
  {
   "cell_type": "markdown",
   "id": "28e92ba5-7269-41a2-9649-df9e97566afa",
   "metadata": {},
   "source": [
    "From the bar chart:\n",
    "\n",
    "- Engaged Users:\n",
    "    - Variant: ~18.5% conversion rate\n",
    "    - Control: ~15.7%\n",
    "\n",
    "Suggests a noticeable lift in conversion for engaged users with the new design.\n",
    "- Casual Users:\n",
    "    - Variant: ~17.8%\n",
    "    - Control: ~16.2%\n",
    "\n",
    "A smaller lift, but still an improvement.\n",
    "\n",
    "The new design (variant group) improved conversion for both casual and engaged users, with a larger impact on engaged users. This suggests the updated experience may better support returning or more active users, but still benefits new/casual users."
   ]
  },
  {
   "cell_type": "markdown",
   "id": "229e2507-f30f-4759-af49-3f8a6abbc3bc",
   "metadata": {},
   "source": [
    "#### How does conversion rate differ across user types (Engaged vs. Casual) within each experiment group (Control vs. Variant)"
   ]
  },
  {
   "cell_type": "code",
   "execution_count": 32,
   "id": "9ba66917-a181-4a79-a7db-f1b59e6461d6",
   "metadata": {},
   "outputs": [
    {
     "data": {
      "text/html": [
       "<div>\n",
       "<style scoped>\n",
       "    .dataframe tbody tr th:only-of-type {\n",
       "        vertical-align: middle;\n",
       "    }\n",
       "\n",
       "    .dataframe tbody tr th {\n",
       "        vertical-align: top;\n",
       "    }\n",
       "\n",
       "    .dataframe thead th {\n",
       "        text-align: right;\n",
       "    }\n",
       "</style>\n",
       "<table border=\"1\" class=\"dataframe\">\n",
       "  <thead>\n",
       "    <tr style=\"text-align: right;\">\n",
       "      <th></th>\n",
       "      <th></th>\n",
       "      <th>mean</th>\n",
       "      <th>count</th>\n",
       "    </tr>\n",
       "    <tr>\n",
       "      <th>experiment_group</th>\n",
       "      <th>engagement_segment</th>\n",
       "      <th></th>\n",
       "      <th></th>\n",
       "    </tr>\n",
       "  </thead>\n",
       "  <tbody>\n",
       "    <tr>\n",
       "      <th rowspan=\"2\" valign=\"top\">control</th>\n",
       "      <th>Casual User</th>\n",
       "      <td>0.161431</td>\n",
       "      <td>2515</td>\n",
       "    </tr>\n",
       "    <tr>\n",
       "      <th>Engaged User</th>\n",
       "      <td>0.158162</td>\n",
       "      <td>5115</td>\n",
       "    </tr>\n",
       "    <tr>\n",
       "      <th rowspan=\"2\" valign=\"top\">variant</th>\n",
       "      <th>Casual User</th>\n",
       "      <td>0.177225</td>\n",
       "      <td>2573</td>\n",
       "    </tr>\n",
       "    <tr>\n",
       "      <th>Engaged User</th>\n",
       "      <td>0.184252</td>\n",
       "      <td>5080</td>\n",
       "    </tr>\n",
       "  </tbody>\n",
       "</table>\n",
       "</div>"
      ],
      "text/plain": [
       "                                         mean  count\n",
       "experiment_group engagement_segment                 \n",
       "control          Casual User         0.161431   2515\n",
       "                 Engaged User        0.158162   5115\n",
       "variant          Casual User         0.177225   2573\n",
       "                 Engaged User        0.184252   5080"
      ]
     },
     "execution_count": 32,
     "metadata": {},
     "output_type": "execute_result"
    }
   ],
   "source": [
    "segment_analysis = experiment_data.groupby(\n",
    "    ['experiment_group', 'engagement_segment'])['conversion'].agg(['mean', 'count'])\n",
    "segment_analysis"
   ]
  },
  {
   "cell_type": "markdown",
   "id": "e722bf97-9e3d-45e3-a0fa-42959a945804",
   "metadata": {},
   "source": [
    "- Both Casual and Engaged users saw higher conversion rates under the Variant version.\n",
    "- Engaged Users responded especially well to the variant:\n",
    "    - +18.43% vs 15.82% → ~2.6% absolute increase\n",
    "\n",
    "- Casual Users also improved:\n",
    "  - +17.72% vs 16.14% → ~1.6% absolute increase\n",
    "\n",
    "The lift is stronger for Engaged Users, but the variant helps both segments, suggesting the new search algorithm performs better overall.\n"
   ]
  }
 ],
 "metadata": {
  "kernelspec": {
   "display_name": "Python 3 (ipykernel)",
   "language": "python",
   "name": "python3"
  },
  "language_info": {
   "codemirror_mode": {
    "name": "ipython",
    "version": 3
   },
   "file_extension": ".py",
   "mimetype": "text/x-python",
   "name": "python",
   "nbconvert_exporter": "python",
   "pygments_lexer": "ipython3",
   "version": "3.13.2"
  }
 },
 "nbformat": 4,
 "nbformat_minor": 5
}
